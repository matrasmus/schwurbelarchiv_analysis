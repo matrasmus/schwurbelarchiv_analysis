{
 "cells": [
  {
   "cell_type": "code",
   "execution_count": null,
   "metadata": {},
   "outputs": [],
   "source": [
    "import networkx as nx\n",
    "import pandas as pd\n",
    "\n",
    "\n",
    "import pydot\n",
    "from networkx.drawing.nx_pydot import graphviz_layout\n",
    "\n",
    "from community import community_louvain as community"
   ]
  },
  {
   "cell_type": "code",
   "execution_count": null,
   "metadata": {},
   "outputs": [],
   "source": [
    "#base_df = pd.read_csv(\"/data/schwurbelarchiv/extracted_information/dataframes/base_df.csv.gzip\", compression = 'gzip')"
   ]
  },
  {
   "cell_type": "code",
   "execution_count": null,
   "metadata": {},
   "outputs": [],
   "source": [
    "a_nodes = base_df.query(\"message_hash in fwd_message_hash and not (message_hash != message_hash)\") "
   ]
  },
  {
   "cell_type": "code",
   "execution_count": null,
   "metadata": {},
   "outputs": [],
   "source": [
    "#defining sample size, as full dataset takes longer than 12 hours\n",
    "a_nodes = a_nodes.head(2000)"
   ]
  },
  {
   "cell_type": "code",
   "execution_count": null,
   "metadata": {},
   "outputs": [],
   "source": [
    "a_tup = tuple([a_nodes['group_name'].tolist(), a_nodes['message_hash'].tolist(), a_nodes['author'].tolist()])"
   ]
  },
  {
   "cell_type": "code",
   "execution_count": null,
   "metadata": {},
   "outputs": [],
   "source": [
    "a_edge = []\n",
    "for i in range(len(a_tup[0])):\n",
    "    try:\n",
    "        tmp = base_df['group_name'][(base_df['fwd_message_hash'] == a_tup[1][i]) & (base_df['fwd_author'] == a_tup[2][i])]\n",
    "        a = tmp.tolist()[0]\n",
    "        \n",
    "    except:\n",
    "        continue\n",
    "    \n",
    "    a_edge.append((a_tup[0][i], a))"
   ]
  },
  {
   "cell_type": "code",
   "execution_count": null,
   "metadata": {},
   "outputs": [],
   "source": [
    "G = nx.complete_graph(1)\n",
    "\n",
    "G.add_nodes_from(a_tup[0])\n",
    "\n",
    "G.add_edges_from(a_edge)\n",
    "\n",
    "nodes_to_remove = [node for node in G.nodes() if G.degree(node) < 1]\n",
    "\n",
    "G.remove_nodes_from(nodes_to_remove)"
   ]
  },
  {
   "cell_type": "code",
   "execution_count": null,
   "metadata": {},
   "outputs": [],
   "source": [
    "partition = community.best_partition(G)"
   ]
  },
  {
   "cell_type": "code",
   "execution_count": null,
   "metadata": {},
   "outputs": [],
   "source": [
    "pos = nx.spring_layout(G)\n",
    "fig, ax = plt.subplots(figsize=(24,20))\n",
    "\n",
    "nx.draw(G, pos, ax = ax, with_labels=False, node_size=30, cmap=plt.cm.jet, node_color=list(partition.values()))\n",
    "plt.show()"
   ]
  },
  {
   "cell_type": "code",
   "execution_count": null,
   "metadata": {},
   "outputs": [],
   "source": [
    "# Compute the best partition\n",
    "partition = community.best_partition(G)\n",
    "\n",
    "# Draw the graph\n",
    "pos = nx.spring_layout(G)\n",
    "nx.draw_networkx_nodes(G, pos, partition.keys(), node_size=30,\n",
    "                       cmap=plt.cm.jet, node_color=list(partition.values()))\n",
    "nx.draw_networkx_edges(G, pos, alpha=0.7)\n",
    "\n"
   ]
  },
  {
   "cell_type": "code",
   "execution_count": null,
   "metadata": {},
   "outputs": [],
   "source": [
    "#mean degree\n",
    "degrees = [val for (node, val) in G.degree()]\n",
    "sum(degrees)/len(degrees)"
   ]
  },
  {
   "cell_type": "code",
   "execution_count": null,
   "metadata": {},
   "outputs": [],
   "source": [
    "#modularity\n",
    "mod = community.modularity(partition, G)"
   ]
  },
  {
   "cell_type": "code",
   "execution_count": null,
   "metadata": {},
   "outputs": [],
   "source": [
    "#centrality\n",
    "deg_centrality = nx.degree_centrality(G)\n",
    "\n",
    "cent = []\n",
    "for i in deg_centrality:\n",
    "    cent.append(deg_centrality[i])"
   ]
  },
  {
   "cell_type": "code",
   "execution_count": null,
   "metadata": {},
   "outputs": [],
   "source": [
    "sum(cent)/len(cent)"
   ]
  },
  {
   "cell_type": "code",
   "execution_count": null,
   "metadata": {},
   "outputs": [],
   "source": []
  },
  {
   "cell_type": "code",
   "execution_count": null,
   "metadata": {},
   "outputs": [],
   "source": []
  },
  {
   "cell_type": "code",
   "execution_count": null,
   "metadata": {},
   "outputs": [],
   "source": []
  },
  {
   "cell_type": "code",
   "execution_count": null,
   "metadata": {},
   "outputs": [],
   "source": []
  },
  {
   "cell_type": "code",
   "execution_count": null,
   "metadata": {},
   "outputs": [],
   "source": []
  },
  {
   "cell_type": "code",
   "execution_count": null,
   "metadata": {},
   "outputs": [],
   "source": []
  }
 ],
 "metadata": {
  "kernelspec": {
   "display_name": "Python 3",
   "language": "python",
   "name": "python3"
  },
  "language_info": {
   "name": "python",
   "version": "3.10.6 (tags/v3.10.6:9c7b4bd, Aug  1 2022, 21:53:49) [MSC v.1932 64 bit (AMD64)]"
  },
  "orig_nbformat": 4,
  "vscode": {
   "interpreter": {
    "hash": "26de051ba29f2982a8de78e945f0abaf191376122a1563185a90213a26c5da77"
   }
  }
 },
 "nbformat": 4,
 "nbformat_minor": 2
}
