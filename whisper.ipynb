{
 "cells": [
  {
   "cell_type": "code",
   "execution_count": null,
   "metadata": {},
   "outputs": [],
   "source": [
    "import pandas as pd\n",
    "import whisper"
   ]
  },
  {
   "cell_type": "code",
   "execution_count": null,
   "metadata": {},
   "outputs": [],
   "source": [
    "#base_df = pd.read_csv(\"/data/schwurbelarchiv/extracted_information/dataframes/base_df.csv.gzip\", compression = 'gzip')"
   ]
  },
  {
   "cell_type": "code",
   "execution_count": null,
   "metadata": {},
   "outputs": [],
   "source": [
    "transcription_model = whisper.load_model(\"large\")\n",
    "\n",
    "def get_channel_names(path):\n",
    "    channel_names = []\n",
    "    for channel in os.listdir(path):\n",
    "        channel_names.append(channel)\n",
    "    return channel_names"
   ]
  },
  {
   "cell_type": "code",
   "execution_count": null,
   "metadata": {},
   "outputs": [],
   "source": [
    "def transcription(folder_path, group_names, file_type):\n",
    "    if file_type == \"video\":\n",
    "        types = [\"video\"]\n",
    "    elif file_type == \"voice\":\n",
    "        types =[\"voice message\"]\n",
    "    else:\n",
    "        types = [\"video\", \"voice message\"]\n",
    "    for i in group_names:\n",
    "        for n in types:\n",
    "            files = base_df[(base_df[\"group_name\"] == i) & (base_df[\"media_file_type\"] == n)][\"media_file\"].to_list() + base_df[(base_df[\"group_name\"] == i) & (base_df[\"fwd_media_file_type\"] == n)][\"fwd_media_file\"].to_list()\n",
    "            files = [x for x in files if str(x) != \"nan\"]\n",
    "            for file in files:\n",
    "                link = str(folder_path) + \"/\" + str(folder_dict[i]) + \"/\" + str(file)\n",
    "                text = transcription_model.transcribe(link)\n",
    "                transcribed = text.get(\"text\")\n",
    "                base_df.loc[base_df[\"media_file\"] == file, \"transcribed_message\"] = transcribed\n",
    "                base_df.loc[base_df[\"fwd_media_file\"] == file, \"transcribed_message\"] = transcribed"
    "   
    "
    " 
   ]
  },
  {
   "cell_type": "code",
   "execution_count": null,
   "metadata": {},
   "outputs": [],
   "source": [
    "#path = INSERT PATH TO WHERE THE FOLDER ARE STORED
    "#groups_to_transcribe= [DEFINE A LIST OF GROUP NAMES]
    "#video_or_voice = STATE ONE OR NOTHING IF BOTH TYPES SHALL BE TRANSCRIBED
    "#transcription(path, groups_to_transcribe, video_or_voice)]
  }
 ],
 "metadata": {
  "kernelspec": {
   "display_name": "Python 3",
   "language": "python",
   "name": "python3"
  },
  "language_info": {
   "name": "python",
   "version": "3.10.6 (tags/v3.10.6:9c7b4bd, Aug  1 2022, 21:53:49) [MSC v.1932 64 bit (AMD64)]"
  },
  "orig_nbformat": 4,
  "vscode": {
   "interpreter": {
    "hash": "26de051ba29f2982a8de78e945f0abaf191376122a1563185a90213a26c5da77"
   }
  }
 },
 "nbformat": 4,
 "nbformat_minor": 2
}
