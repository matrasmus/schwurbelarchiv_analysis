{
 "cells": [
  {
   "cell_type": "code",
   "execution_count": null,
   "metadata": {},
   "outputs": [],
   "source": [
    "import pandas as pd\n",
    "import numpy as np\n",
    "import scipy.stats as st\n",
    "import statistics\n",
    "\n",
    "\n",
    "import glob\n",
    "\n",
    "import matplotlib.pyplot as plt"
   ]
  },
  {
   "cell_type": "code",
   "execution_count": null,
   "metadata": {},
   "outputs": [],
   "source": [
    "#base_df = pd.read_csv(\"/data/schwurbelarchiv/extracted_information/dataframes/base_df.csv.gzip\", compression = 'gzip')\n",
    "#group_info = read_csv(\"/data/schwurbelarchiv/extracted_information/dataframes/group_info.csv.gzip\", compression = 'gzip')"
   ]
  },
  {
   "cell_type": "code",
   "execution_count": null,
   "metadata": {},
   "outputs": [],
   "source": [
    "summary_df = group_info.tail(1)"
   ]
  },
  {
   "cell_type": "code",
   "execution_count": null,
   "metadata": {},
   "outputs": [],
   "source": [
    "group_info.drop(group_info.tail(1).index,inplace=True)"
   ]
  },
  {
   "cell_type": "code",
   "execution_count": null,
   "metadata": {},
   "outputs": [],
   "source": [
    "max(group_info.n_authors)"
   ]
  },
  {
   "cell_type": "code",
   "execution_count": null,
   "metadata": {},
   "outputs": [],
   "source": [
    "np.percentile(group_info.n_authors, 50)"
   ]
  },
  {
   "cell_type": "code",
   "execution_count": null,
   "metadata": {},
   "outputs": [],
   "source": [
    "sum(group_info.n_authors)/len(group_info.n_authors)"
   ]
  },
  {
   "cell_type": "code",
   "execution_count": null,
   "metadata": {},
   "outputs": [],
   "source": [
    "st.t.interval(alpha=0.90, df=len(group_info.n_authors)-1,\n",
    "              loc=np.mean(group_info.n_authors),\n",
    "              scale=st.sem(group_info.n_authors))"
   ]
  },
  {
   "cell_type": "code",
   "execution_count": null,
   "metadata": {},
   "outputs": [],
   "source": [
    "group_info = pd.concat([group_info, summary_df], axis = 0)"
   ]
  },
  {
   "cell_type": "code",
   "execution_count": null,
   "metadata": {},
   "outputs": [],
   "source": [
    "group_info = group_info.reset_index(drop=True)"
   ]
  },
  {
   "cell_type": "code",
   "execution_count": null,
   "metadata": {},
   "outputs": [],
   "source": []
  },
  {
   "cell_type": "code",
   "execution_count": null,
   "metadata": {},
   "outputs": [],
   "source": [
    "posting_frequency = base_df.groupby(\"day\").count()\n",
    "posting_frequency = posting_frequency[[\"posting_date\"]]"
   ]
  },
  {
   "cell_type": "code",
   "execution_count": null,
   "metadata": {},
   "outputs": [],
   "source": [
    "import plotly.express as px\n",
    "import plotly.io as pio\n",
    "\n",
    "pio.renderers.default = 'iframe'\n",
    "\n",
    "fig = px.line(posting_frequency, x=posting_frequency.index, y='posting_date')\n",
    "fig.show()"
   ]
  },
  {
   "cell_type": "code",
   "execution_count": null,
   "metadata": {},
   "outputs": [],
   "source": [
    "week_postings = base_df[[\"group_name\", \"posting_date\", \"weekday\"]].copy()"
   ]
  },
  {
   "cell_type": "code",
   "execution_count": null,
   "metadata": {},
   "outputs": [],
   "source": [
    "week_postings[\"hour\"] = week_postings[\"posting_date\"].dt.hour"
   ]
  },
  {
   "cell_type": "code",
   "execution_count": null,
   "metadata": {},
   "outputs": [],
   "source": [
    "days_grouped = week_postings.groupby([\"weekday\", \"hour\"]).size()\n",
    "days_grouped = days_grouped.unstack()"
   ]
  },
  {
   "cell_type": "code",
   "execution_count": null,
   "metadata": {},
   "outputs": [],
   "source": [
    "plt.imshow(days_grouped, cmap='hot', interpolation='nearest')\n",
    "plt.show()"
   ]
  },
  {
   "cell_type": "code",
   "execution_count": null,
   "metadata": {},
   "outputs": [],
   "source": [
    "week_postings.pivot_table(index=\"hour\", columns=\"weekday\", aggfunc=\"size\").plot(kind=\"line\")\n",
    "plt.show()"
   ]
  },
  {
   "cell_type": "code",
   "execution_count": null,
   "metadata": {},
   "outputs": [],
   "source": [
    "hours_passing = []\n",
    "for i in range(7):\n",
    "    hours_passing += days_grouped.iloc[i].tolist()\n",
    "weekdays = [\"Monday\", \"Tuesday\", \"Wednesday\", \"Thursday\", \"Friday\", \"Saturday\", \"Sunday\"]\n",
    "hours_list = [4, 8, 12, 16, 20]\n",
    "the_week = []\n",
    "for day in weekdays:\n",
    "    the_week.append(day)\n",
    "    the_week += hours_list\n",
    "\n",
    "weekly_posting_df = pd.DataFrame({\"posting_numbers\":hours_passing})"
   ]
  },
  {
   "cell_type": "code",
   "execution_count": null,
   "metadata": {},
   "outputs": [],
   "source": [
    "fig = px.line(weekly_posting_df, x=weekly_posting_df.index, y=\"posting_numbers\")\n",
    "fig.update_layout(\n",
    "    xaxis = dict(\n",
    "        tickmode = 'array',\n",
    "        tickvals = list(range(0, 168, 4)),\n",
    "        ticktext = the_week\n",
    "    )\n",
    ")\n",
    "fig.show()"
   ]
  },
  {
   "cell_type": "code",
   "execution_count": null,
   "metadata": {},
   "outputs": [],
   "source": [
    "def link_removal(some_string):\n",
    "    some_string = re.sub(\"<a.*?a>\", \"\", some_string)\n",
    "    some_string = re.sub(\"<code>.*?</code>\", \"\", some_string)\n",
    "    some_string = re.sub(\"<.*?>\", \"\", some_string)\n",
    "\n",
    "    return some_string"
   ]
  },
  {
   "cell_type": "code",
   "execution_count": null,
   "metadata": {},
   "outputs": [],
   "source": [
    "base_df['day'] = base_df['posting_date'].dt.floor('D') + pd.Timedelta(12, unit = 'h')"
   ]
  },
  {
   "cell_type": "code",
   "execution_count": null,
   "metadata": {},
   "outputs": [],
   "source": [
    "#analysis of peak on January 7th\n",
    "base_df[base_df['day'] == '2021-01-07 12:00:00+00:00']['group_name'].value_counts().head(10)"
   ]
  },
  {
   "cell_type": "code",
   "execution_count": null,
   "metadata": {},
   "outputs": [],
   "source": [
    "#base_df[(base_df['group_name'] == 'O-Ton TV - Der Infokanal (SHAEF/2Q2Q/WWG1WGA/DEFENDER/TRUMP/2Q21/GESARA)') & (base_df['day'] == '2021-06-12 12:00:00+00:00')]['message'].dropna().head(50)#['message'].value_counts"
   ]
  },
  {
   "cell_type": "code",
   "execution_count": null,
   "metadata": {},
   "outputs": [],
   "source": [
    "group_names = base_df[\"group_name\"].unique().tolist()\n",
    "individual_dates = list(base_df['day'].unique())\n",
    "\n",
    "len(group_names)\n",
    "len(individual_dates)\n",
    "\n",
    "\n",
    "text_df = pd.DataFrame(columns=[\"group_name\", \"day\", \"messages\"]) # Add if working with whisper transcriptions , \"transcribed_message\"])\n",
    "count = 0\n",
    "for n in range(len(group_names)):\n",
    "    group = group_names[n]\n",
    "    for i in range(len(individual_dates)):\n",
    "        build_text = base_df.loc[(base_df[\"group_name\"] == group_names[n]) & (base_df[\"day\"] == individual_dates[i])]\n",
    "        count += 1\n",
    "        if len(build_text) > 0:\n",
    "            day = individual_dates[i]\n",
    "            build_text[\"message\"] = build_text[\"message\"].fillna(\"\")\n",
    "            build_text[\"message\"] = build_text[\"message\"].apply(link_removal)\n",
    "            build_text[\"fwd_message\"] = build_text[\"fwd_message\"].fillna(\"\")\n",
    "            build_text[\"fwd_message\"] = build_text[\"fwd_message\"].apply(link_removal)\n",
    "            #build_text[\"transcribed_message\"] = build_text[\"transcribed_message\"].fillna(\"\")\n",
    "            #build_text[\"transcribed_message\"] = build_text[\"transcribed_message\"].apply(link_removal)\n",
    "            messages = \" \".join(build_text[\"message\"].to_list())+\" \" + \" \".join(build_text[\"fwd_message\"].to_list()) # + \" \".join(build_text[\"transcribed_message\"].to_list())\n",
    "\n",
    "            new_row = len(text_df)\n",
    "            text_df.loc[new_row] = [group, day, messages]\n",
    "        print(count)\n",
    "\n",
    "\n"
   ]
  },
  {
   "cell_type": "code",
   "execution_count": null,
   "metadata": {},
   "outputs": [],
   "source": [
    "import datetime;\n",
    "\n",
    "groupy = base_df.groupby(by=[\"group_name\", \"day\"])\n",
    "\n",
    "ct = datetime.datetime.now()\n",
    "print(\"current time:-\", ct)\n",
    "\n",
    "all_mess = groupy[\"message\", \"fwd_message\"].agg(lambda x: ' '.join(x.dropna()))\n",
    "text_df = all_mess.reset_index()\n",
    "\n",
    "ct = datetime.datetime.now()\n",
    "print(\"current time:-\", ct)\n",
    "\n",
    "text_df[\"messages\"] = text_df[\"message\"] + text_df[\"fwd_message\"]\n",
    "ct = datetime.datetime.now()\n",
    "print(\"current time:-\", ct)\n",
    "text_df[\"messages\"] = text_df[\"messages\"].fillna(\"\")\n",
    "ct = datetime.datetime.now()\n",
    "print(\"current time:-\", ct)\n",
    "text_df[\"messages\"] = text_df[\"messages\"].apply(link_removal)\n",
    "ct = datetime.datetime.now()\n",
    "print(\"current time:-\", ct)\n",
    "text_df = text_df[text_df[\"messages\"] != \"\"]\n",
    "ct = datetime.datetime.now()\n",
    "print(\"current time:-\", ct)\n",
    "text_df = text_df[~(text_df[\"messages\"].str.strip() ==\"\")].reset_index()\n",
    "text_df"
   ]
  },
  {
   "cell_type": "code",
   "execution_count": null,
   "metadata": {},
   "outputs": [],
   "source": [
    "#text_df.to_csv(\"/data/schwurbelarchiv/extracted_information/dataframes/text_df.csv.gzip\", compression = 'gzip')"
   ]
  },
  {
   "cell_type": "code",
   "execution_count": null,
   "metadata": {},
   "outputs": [],
   "source": []
  },
  {
   "cell_type": "code",
   "execution_count": null,
   "metadata": {},
   "outputs": [],
   "source": []
  }
 ],
 "metadata": {
  "kernelspec": {
   "display_name": "Python 3",
   "language": "python",
   "name": "python3"
  },
  "language_info": {
   "name": "python",
   "version": "3.10.6 (tags/v3.10.6:9c7b4bd, Aug  1 2022, 21:53:49) [MSC v.1932 64 bit (AMD64)]"
  },
  "orig_nbformat": 4,
  "vscode": {
   "interpreter": {
    "hash": "26de051ba29f2982a8de78e945f0abaf191376122a1563185a90213a26c5da77"
   }
  }
 },
 "nbformat": 4,
 "nbformat_minor": 2
}
